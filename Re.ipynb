{
  "nbformat": 4,
  "nbformat_minor": 0,
  "metadata": {
    "colab": {
      "provenance": [],
      "collapsed_sections": [],
      "include_colab_link": true
    },
    "kernelspec": {
      "name": "python3",
      "display_name": "Python 3"
    }
  },
  "cells": [
    {
      "cell_type": "markdown",
      "metadata": {
        "id": "view-in-github",
        "colab_type": "text"
      },
      "source": [
        "<a href=\"https://colab.research.google.com/github/Irina-64/AD-MO/blob/main/Re.ipynb\" target=\"_parent\"><img src=\"https://colab.research.google.com/assets/colab-badge.svg\" alt=\"Open In Colab\"/></a>"
      ]
    },
    {
      "cell_type": "markdown",
      "source": [
        "ноутбук для лекции (видео https://youtu.be/7-511OHcoBE )"
      ],
      "metadata": {
        "id": "j2bqWOMsulBp"
      }
    },
    {
      "cell_type": "code",
      "metadata": {
        "id": "PB-lEKlmWc17"
      },
      "source": [
        "import re"
      ],
      "execution_count": null,
      "outputs": []
    },
    {
      "cell_type": "code",
      "metadata": {
        "id": "ruSZz_XzWp6j",
        "outputId": "0ac4adff-aaa0-48a4-cee4-c51b218c1c0d",
        "colab": {
          "base_uri": "https://localhost:8080/",
          "height": 71
        }
      },
      "source": [
        "text = \"100 ИНФ 8(903)6174741 Информатика abc@mail +7(903)6174731 213 МАТ abc@.mail.ru 1.1.91 89036174739 1.1.1991 Математика 1.11.1991 +79036174740 cnn@gmail.com 21.01.1991 156 АНГ  Английский 89036174738 nn@gmail.com\"\n",
        "print(type(text))\n",
        "print(text)"
      ],
      "execution_count": null,
      "outputs": [
        {
          "output_type": "stream",
          "text": [
            "<class 'str'>\n",
            "100 ИНФ 8(903)6174741 Информатика abc@mail +7(903)6174731 213 МАТ abc@.mail.ru 1.1.91 89036174739 1.1.1991 Математика 1.11.1991 +79036174740 cnn@gmail.com 21.01.1991 156 АНГ  Английский 89036174738 nn@gmail.com\n"
          ],
          "name": "stdout"
        }
      ]
    },
    {
      "cell_type": "code",
      "metadata": {
        "id": "xgtXj6Yloo5Y"
      },
      "source": [
        "text.split()"
      ],
      "execution_count": null,
      "outputs": []
    },
    {
      "cell_type": "code",
      "metadata": {
        "id": "Cuk882CpW8pZ",
        "outputId": "238b9dda-5dc6-4d90-f770-f1fac93383d8",
        "colab": {
          "base_uri": "https://localhost:8080/",
          "height": 391
        }
      },
      "source": [
        "# Разделит текст по 1 или более пробелами  \n",
        "re.split('\\s+', text)  \n",
        "# или"
      ],
      "execution_count": null,
      "outputs": [
        {
          "output_type": "execute_result",
          "data": {
            "text/plain": [
              "['100',\n",
              " 'ИНФ',\n",
              " '8(903)6174741',\n",
              " 'Информатика',\n",
              " 'abc@mail',\n",
              " '+7(903)6174731',\n",
              " '213',\n",
              " 'МАТ',\n",
              " 'abc@.mail.ru',\n",
              " '1.1.91',\n",
              " '89036174739',\n",
              " '1.1.1991',\n",
              " 'Математика',\n",
              " '1.11.1991',\n",
              " '+79036174740',\n",
              " 'cnn@gmail.com',\n",
              " '21.01.1991',\n",
              " '156',\n",
              " 'АНГ',\n",
              " 'Английский',\n",
              " '89036174738',\n",
              " 'nn@gmail.com']"
            ]
          },
          "metadata": {
            "tags": []
          },
          "execution_count": 4
        }
      ]
    },
    {
      "cell_type": "code",
      "metadata": {
        "id": "UEqEzfBfo_3M",
        "colab": {
          "base_uri": "https://localhost:8080/",
          "height": 391
        },
        "outputId": "6c6022e1-48ad-4cc0-97a1-b9f32f757df2"
      },
      "source": [
        "regex = re.compile('\\s+') # \\s соответствует любому символу пробела\n",
        "regex.split(text)"
      ],
      "execution_count": null,
      "outputs": [
        {
          "output_type": "execute_result",
          "data": {
            "text/plain": [
              "['100',\n",
              " 'ИНФ',\n",
              " '8(903)6174741',\n",
              " 'Информатика',\n",
              " 'abc@mail',\n",
              " '+7(903)6174731',\n",
              " '213',\n",
              " 'МАТ',\n",
              " 'abc@.mail.ru',\n",
              " '1.1.91',\n",
              " '89036174739',\n",
              " '1.1.1991',\n",
              " 'Математика',\n",
              " '1.11.1991',\n",
              " '+79036174740',\n",
              " 'cnn@gmail.com',\n",
              " '21.01.1991',\n",
              " '156',\n",
              " 'АНГ',\n",
              " 'Английский',\n",
              " '89036174738',\n",
              " 'nn@gmail.com']"
            ]
          },
          "metadata": {
            "tags": []
          },
          "execution_count": 5
        }
      ]
    },
    {
      "cell_type": "code",
      "metadata": {
        "id": "EM0MyLtUUnxj",
        "outputId": "a06fe820-e06c-4aa9-8d22-4d8a9db56464",
        "colab": {
          "base_uri": "https://localhost:8080/",
          "height": 442
        }
      },
      "source": [
        "regex = re.compile('\\d+') # \\d соответствует цифре\n",
        "regex.split(text)"
      ],
      "execution_count": null,
      "outputs": [
        {
          "output_type": "execute_result",
          "data": {
            "text/plain": [
              "['',\n",
              " ' ИНФ ',\n",
              " '(',\n",
              " ')',\n",
              " ' Информатика abc@mail +',\n",
              " '(',\n",
              " ')',\n",
              " ' ',\n",
              " ' МАТ abc@.mail.ru ',\n",
              " '.',\n",
              " '.',\n",
              " ' ',\n",
              " ' ',\n",
              " '.',\n",
              " '.',\n",
              " ' Математика ',\n",
              " '.',\n",
              " '.',\n",
              " ' +',\n",
              " ' cnn@gmail.com ',\n",
              " '.',\n",
              " '.',\n",
              " ' ',\n",
              " ' АНГ  Английский ',\n",
              " ' nn@gmail.com']"
            ]
          },
          "metadata": {
            "tags": []
          },
          "execution_count": 6
        }
      ]
    },
    {
      "cell_type": "markdown",
      "metadata": {
        "id": "fApp-SaI5pqI"
      },
      "source": [
        " **SEARCH and FINDALL and FINDITER**  "
      ]
    },
    {
      "cell_type": "code",
      "metadata": {
        "id": "5pL0sqcG4Vmk",
        "outputId": "85e9673d-78ce-496b-9796-3582c7ba9ee9",
        "colab": {
          "base_uri": "https://localhost:8080/",
          "height": 34
        }
      },
      "source": [
        "re.search(r'\\d{11}', text) # находит первый объект"
      ],
      "execution_count": null,
      "outputs": [
        {
          "output_type": "execute_result",
          "data": {
            "text/plain": [
              "<_sre.SRE_Match object; span=(86, 97), match='89036174739'>"
            ]
          },
          "metadata": {
            "tags": []
          },
          "execution_count": 10
        }
      ]
    },
    {
      "cell_type": "code",
      "metadata": {
        "id": "lDDdTjEGV3ep",
        "outputId": "de53d533-68de-4cb9-dd09-15b779eaaa42",
        "colab": {
          "base_uri": "https://localhost:8080/",
          "height": 34
        }
      },
      "source": [
        "print(re.search(r'\\d{12}', text))"
      ],
      "execution_count": null,
      "outputs": [
        {
          "output_type": "stream",
          "text": [
            "None\n"
          ],
          "name": "stdout"
        }
      ]
    },
    {
      "cell_type": "code",
      "metadata": {
        "id": "VMzz0ZHU9HRd",
        "outputId": "015d49af-e8a2-4226-ad5c-9c630f169643",
        "colab": {
          "base_uri": "https://localhost:8080/",
          "height": 68
        }
      },
      "source": [
        " # скомпилируйте regex и найдите шаблоны\n",
        "regex_num = re.compile('\\d{11}')\n",
        "\n",
        "s = regex_num.search(text)  \n",
        "print('Первый индекс: ', s.start())  \n",
        "print('Последний индекс: ', s.end())  \n",
        "print(text[s.start():s.end()])"
      ],
      "execution_count": null,
      "outputs": [
        {
          "output_type": "stream",
          "text": [
            "Первый индекс:  86\n",
            "Последний индекс:  97\n",
            "89036174739\n"
          ],
          "name": "stdout"
        }
      ]
    },
    {
      "cell_type": "code",
      "metadata": {
        "id": "qbzL9zBeqgga",
        "outputId": "904b1882-aeb7-4fe1-bac9-bd126283815b",
        "colab": {
          "base_uri": "https://localhost:8080/",
          "height": 68
        }
      },
      "source": [
        "for m in re.finditer('\\d{11}', text): \n",
        "    print('Номер', m[0], 'начинается с позиции', m.start())"
      ],
      "execution_count": null,
      "outputs": [
        {
          "output_type": "stream",
          "text": [
            "Номер 89036174739 начинается с позиции 86\n",
            "Номер 79036174740 начинается с позиции 129\n",
            "Номер 89036174738 начинается с позиции 186\n"
          ],
          "name": "stdout"
        }
      ]
    },
    {
      "cell_type": "code",
      "metadata": {
        "id": "odUzlT3HM4Dh",
        "outputId": "8910bb18-f68a-4fa0-f9de-020b6c46eb03",
        "colab": {
          "base_uri": "https://localhost:8080/",
          "height": 34
        }
      },
      "source": [
        "type(re.finditer('\\d{11}', text))"
      ],
      "execution_count": null,
      "outputs": [
        {
          "output_type": "execute_result",
          "data": {
            "text/plain": [
              "callable_iterator"
            ]
          },
          "metadata": {
            "tags": []
          },
          "execution_count": 14
        }
      ]
    },
    {
      "cell_type": "code",
      "metadata": {
        "id": "43e7ViA2YDa-",
        "outputId": "938ad5e5-7651-4123-ce60-b77c1e370e63",
        "colab": {
          "base_uri": "https://localhost:8080/",
          "height": 34
        }
      },
      "source": [
        "#findall \n",
        "regex_num.findall(text)"
      ],
      "execution_count": null,
      "outputs": [
        {
          "output_type": "execute_result",
          "data": {
            "text/plain": [
              "['89036174739', '79036174740', '89036174738']"
            ]
          },
          "metadata": {
            "tags": []
          },
          "execution_count": 15
        }
      ]
    },
    {
      "cell_type": "markdown",
      "metadata": {
        "id": "b2-ZIt5IYhMM"
      },
      "source": [
        "Шаблон для выделения даты"
      ]
    },
    {
      "cell_type": "code",
      "metadata": {
        "id": "kqoxcTaGYnMm",
        "outputId": "70d05448-2eae-4dbf-dd7d-9c65247ad062",
        "colab": {
          "base_uri": "https://localhost:8080/",
          "height": 34
        }
      },
      "source": [
        "text = \"100 01/21/1991 ИНФ 21.123757 8(903)6174741 Информатика abc@mail +7(903)6174731 213 МАТ abc@.mail.ru 1.1.91 89036174739 1.1.1991 Математика 1.11.1991 +79036174740 cnn@gmail.com 21.01.1991 156 АНГ  Английский 89036174738 nn@gmail.com\"\n",
        "re.findall(r'\\d{1,2}[./]\\d{1,2}[./]\\d{2,4}', text) # \\d - цифра . - любой символ"
      ],
      "execution_count": null,
      "outputs": [
        {
          "output_type": "execute_result",
          "data": {
            "text/plain": [
              "['01/21/1991', '1.1.91', '1.1.1991', '1.11.1991', '21.01.1991']"
            ]
          },
          "metadata": {
            "tags": []
          },
          "execution_count": 23
        }
      ]
    },
    {
      "cell_type": "code",
      "metadata": {
        "id": "YDOCOkEqakIQ",
        "outputId": "c049a2df-145c-4a95-c3b3-de1344c3fe3a",
        "colab": {
          "base_uri": "https://localhost:8080/",
          "height": 34
        }
      },
      "source": [
        "re.findall(r'\\d{1,2}\\D\\d{1,2}\\D\\d{4}', text) # \\D - любой символ, кроме цифры"
      ],
      "execution_count": null,
      "outputs": [
        {
          "output_type": "execute_result",
          "data": {
            "text/plain": [
              "['01/21/1991', '1.91 8903', '1.1.1991', '1.11.1991', '21.01.1991']"
            ]
          },
          "metadata": {
            "tags": []
          },
          "execution_count": 22
        }
      ]
    },
    {
      "cell_type": "code",
      "metadata": {
        "id": "mEdZURGKtFXm",
        "outputId": "b7c67218-72fa-437a-f4c2-83043008cf37",
        "colab": {
          "base_uri": "https://localhost:8080/",
          "height": 85
        }
      },
      "source": [
        "for m in re.finditer(r'\\d{1,2}[.]\\d{1,2}[.]\\d{2,4}', text): \n",
        "    print('Номер', m[0], 'начинается с позиции', m.start(), type(m), m)"
      ],
      "execution_count": null,
      "outputs": [
        {
          "output_type": "stream",
          "text": [
            "Номер 1.1.91 начинается с позиции 100 <class '_sre.SRE_Match'> <_sre.SRE_Match object; span=(100, 106), match='1.1.91'>\n",
            "Номер 1.1.1991 начинается с позиции 119 <class '_sre.SRE_Match'> <_sre.SRE_Match object; span=(119, 127), match='1.1.1991'>\n",
            "Номер 1.11.1991 начинается с позиции 139 <class '_sre.SRE_Match'> <_sre.SRE_Match object; span=(139, 148), match='1.11.1991'>\n",
            "Номер 21.01.1991 начинается с позиции 176 <class '_sre.SRE_Match'> <_sre.SRE_Match object; span=(176, 186), match='21.01.1991'>\n"
          ],
          "name": "stdout"
        }
      ]
    },
    {
      "cell_type": "markdown",
      "metadata": {
        "id": "XNHIRRpma-F4"
      },
      "source": [
        "Шаблон для выделения номера телефона"
      ]
    },
    {
      "cell_type": "code",
      "metadata": {
        "id": "SAXyqsKjtdO2",
        "outputId": "32faaeef-622c-407b-818e-1de793566c7a",
        "colab": {
          "base_uri": "https://localhost:8080/",
          "height": 54
        }
      },
      "source": [
        "print(text)"
      ],
      "execution_count": null,
      "outputs": [
        {
          "output_type": "stream",
          "text": [
            "100 01/21/1991 ИНФ 21.123757 8(903)6174741 Информатика abc@mail +7(903)6174731 213 МАТ abc@.mail.ru 1.1.91 89036174739 1.1.1991 Математика 1.11.1991 +79036174740 cnn@gmail.com 21.01.1991 156 АНГ  Английский 89036174738 nn@gmail.com\n"
          ],
          "name": "stdout"
        }
      ]
    },
    {
      "cell_type": "code",
      "metadata": {
        "id": "ilP-8U1ka8-L",
        "outputId": "a42c8256-743c-4633-8368-1f122048bd05",
        "colab": {
          "base_uri": "https://localhost:8080/",
          "height": 34
        }
      },
      "source": [
        "re.findall(r'\\d{11}', text) # находит первый объект"
      ],
      "execution_count": null,
      "outputs": [
        {
          "output_type": "execute_result",
          "data": {
            "text/plain": [
              "['89036174739', '79036174740', '89036174738']"
            ]
          },
          "metadata": {
            "tags": []
          },
          "execution_count": 26
        }
      ]
    },
    {
      "cell_type": "code",
      "metadata": {
        "id": "qJ6o1UUYct-N",
        "outputId": "05b4d8c1-953b-4b78-803f-26eb16fa52f7",
        "colab": {
          "base_uri": "https://localhost:8080/",
          "height": 34
        }
      },
      "source": [
        "re.findall(r'\\S{1,2}\\d{10}', text) # \\s - любой пробельный символ, \\S - любой непробельный символ"
      ],
      "execution_count": null,
      "outputs": [
        {
          "output_type": "execute_result",
          "data": {
            "text/plain": [
              "['89036174739', '+79036174740', '89036174738']"
            ]
          },
          "metadata": {
            "tags": []
          },
          "execution_count": 27
        }
      ]
    },
    {
      "cell_type": "code",
      "metadata": {
        "id": "gP3i33x8d6yA",
        "outputId": "dd58f23c-060a-4c8b-dc3e-64bace1a4f17",
        "colab": {
          "base_uri": "https://localhost:8080/",
          "height": 102
        }
      },
      "source": [
        "re.findall(r'\\S{1,3}\\d{3}\\S?\\d{7}', text) # ? - символ может быть, а может и нет"
      ],
      "execution_count": null,
      "outputs": [
        {
          "output_type": "execute_result",
          "data": {
            "text/plain": [
              "['8(903)6174741',\n",
              " '+7(903)6174731',\n",
              " '89036174739',\n",
              " '+79036174740',\n",
              " '89036174738']"
            ]
          },
          "metadata": {
            "tags": []
          },
          "execution_count": 29
        }
      ]
    },
    {
      "cell_type": "code",
      "metadata": {
        "id": "psE6clVVsbP9",
        "outputId": "e811f101-d731-4b10-8a76-47bec928a45f",
        "colab": {
          "base_uri": "https://localhost:8080/",
          "height": 102
        }
      },
      "source": [
        "for m in re.finditer(r'\\S{1,3}\\d{3}\\S{0,1}\\d{7}', text): \n",
        "    print('Номер', m[0], 'начинается с позиции', m.start())"
      ],
      "execution_count": null,
      "outputs": [
        {
          "output_type": "stream",
          "text": [
            "Номер 8(903)6174741 начинается с позиции 29\n",
            "Номер +7(903)6174731 начинается с позиции 64\n",
            "Номер 89036174739 начинается с позиции 107\n",
            "Номер +79036174740 начинается с позиции 149\n",
            "Номер 89036174738 начинается с позиции 207\n"
          ],
          "name": "stdout"
        }
      ]
    },
    {
      "cell_type": "markdown",
      "metadata": {
        "id": "9zkawfcKf1yK"
      },
      "source": [
        "Шаблон для выделения email"
      ]
    },
    {
      "cell_type": "code",
      "metadata": {
        "id": "SCaXZ7vUtgdY"
      },
      "source": [
        "print(text)"
      ],
      "execution_count": null,
      "outputs": []
    },
    {
      "cell_type": "code",
      "metadata": {
        "id": "OqS7bbUpf53q",
        "outputId": "76826076-3f62-4184-9c98-730baaefb743",
        "colab": {
          "base_uri": "https://localhost:8080/",
          "height": 34
        }
      },
      "source": [
        "re.findall(r'\\S+[@]\\S+', text) "
      ],
      "execution_count": null,
      "outputs": [
        {
          "output_type": "execute_result",
          "data": {
            "text/plain": [
              "['abc@mail', 'abc@.mail.ru', 'cnn@gmail.com', 'nn@gmail.com']"
            ]
          },
          "metadata": {
            "tags": []
          },
          "execution_count": 31
        }
      ]
    },
    {
      "cell_type": "code",
      "metadata": {
        "id": "-DS6fQL1hGJY",
        "outputId": "a0e7918d-8e8c-40f7-b68a-a35ea2ce5c69",
        "colab": {
          "base_uri": "https://localhost:8080/",
          "height": 34
        }
      },
      "source": [
        "re.findall(r'\\b\\S+@[a-zA-Z]\\S+', text) # \\b - граница слова"
      ],
      "execution_count": null,
      "outputs": [
        {
          "output_type": "execute_result",
          "data": {
            "text/plain": [
              "['abc@mail', 'cnn@gmail.com', 'nn@gmail.com']"
            ]
          },
          "metadata": {
            "tags": []
          },
          "execution_count": 32
        }
      ]
    },
    {
      "cell_type": "code",
      "metadata": {
        "id": "IJgnFNsBhec-",
        "outputId": "7ad4f164-e796-4091-d160-7dc3ca101bed",
        "colab": {
          "base_uri": "https://localhost:8080/",
          "height": 34
        }
      },
      "source": [
        "re.findall(r'\\b\\S+@[a-zA-Z]\\S+[.]\\S+', text) # \\b - граница слова"
      ],
      "execution_count": null,
      "outputs": [
        {
          "output_type": "execute_result",
          "data": {
            "text/plain": [
              "['cnn@gmail.com', 'nn@gmail.com']"
            ]
          },
          "metadata": {
            "tags": []
          },
          "execution_count": 33
        }
      ]
    },
    {
      "cell_type": "code",
      "metadata": {
        "id": "6Y6NbVwVtZKe",
        "outputId": "8b99e061-8597-4229-c9d9-69c2ea383c31",
        "colab": {
          "base_uri": "https://localhost:8080/",
          "height": 51
        }
      },
      "source": [
        "for m in re.finditer(r'\\b\\S+@[a-zA-Z]\\S+[.]\\S+', text): \n",
        "    print('Номер', m[0], 'начинается с позиции', m.start())"
      ],
      "execution_count": null,
      "outputs": [
        {
          "output_type": "stream",
          "text": [
            "Номер cnn@gmail.com начинается с позиции 162\n",
            "Номер nn@gmail.com начинается с позиции 219\n"
          ],
          "name": "stdout"
        }
      ]
    },
    {
      "cell_type": "markdown",
      "metadata": {
        "id": "Vsj7_wULhpvA"
      },
      "source": [
        "**SUB**"
      ]
    },
    {
      "cell_type": "code",
      "metadata": {
        "id": "4hmW6ykitiAs",
        "outputId": "740e3af0-2c1d-4751-9fd3-70552bdb3029",
        "colab": {
          "base_uri": "https://localhost:8080/",
          "height": 54
        }
      },
      "source": [
        "print(text)"
      ],
      "execution_count": null,
      "outputs": [
        {
          "output_type": "stream",
          "text": [
            "100 01/21/1991 ИНФ 21.123757 8(903)6174741 Информатика abc@mail +7(903)6174731 213 МАТ abc@.mail.ru 1.1.91 89036174739 1.1.1991 Математика 1.11.1991 +79036174740 cnn@gmail.com 21.01.1991 156 АНГ  Английский 89036174738 nn@gmail.com\n"
          ],
          "name": "stdout"
        }
      ]
    },
    {
      "cell_type": "code",
      "metadata": {
        "id": "DCERPbADhosD",
        "outputId": "26938af4-9361-43ea-8f93-6c10da3c81d8",
        "colab": {
          "base_uri": "https://localhost:8080/",
          "height": 54
        }
      },
      "source": [
        "re.sub(r'\\d{1,2}[./]\\d{1,2}[./]\\d{2,4}', 'DATA', text) # заменяем даты"
      ],
      "execution_count": null,
      "outputs": [
        {
          "output_type": "execute_result",
          "data": {
            "text/plain": [
              "'100 DATA ИНФ 21.123757 8(903)6174741 Информатика abc@mail +7(903)6174731 213 МАТ abc@.mail.ru DATA 89036174739 DATA Математика DATA +79036174740 cnn@gmail.com DATA 156 АНГ  Английский 89036174738 nn@gmail.com'"
            ]
          },
          "metadata": {
            "tags": []
          },
          "execution_count": 39
        }
      ]
    },
    {
      "cell_type": "code",
      "metadata": {
        "id": "_VNQOqz-kPs1"
      },
      "source": [
        "re.sub(r'\\d{1,2}\\D\\d{1,2}[.]\\d{2,4}', r'', text) # заменяем все даты"
      ],
      "execution_count": null,
      "outputs": []
    },
    {
      "cell_type": "markdown",
      "metadata": {
        "id": "PwBDhqqamm1u"
      },
      "source": [
        "**MATCH**"
      ]
    },
    {
      "cell_type": "code",
      "metadata": {
        "id": "l3mKHR1Vtj1N",
        "outputId": "9369aab1-4487-49ca-b29b-04a82025216b",
        "colab": {
          "base_uri": "https://localhost:8080/",
          "height": 54
        }
      },
      "source": [
        "print(text)"
      ],
      "execution_count": null,
      "outputs": [
        {
          "output_type": "stream",
          "text": [
            "100 01/21/1991 ИНФ 21.123757 8(903)6174741 Информатика abc@mail +7(903)6174731 213 МАТ abc@.mail.ru 1.1.91 89036174739 1.1.1991 Математика 1.11.1991 +79036174740 cnn@gmail.com 21.01.1991 156 АНГ  Английский 89036174738 nn@gmail.com\n"
          ],
          "name": "stdout"
        }
      ]
    },
    {
      "cell_type": "code",
      "metadata": {
        "id": "-qigGw5bltBO",
        "outputId": "5c2b4978-6bf4-48f5-a15e-eae65906fad1",
        "colab": {
          "base_uri": "https://localhost:8080/",
          "height": 153
        }
      },
      "source": [
        "telephone_numbers = ['8(903)6174741','+7(903)6174731','cnn@gmail.com','89036174739','+79036174740','89036174738', '+7903617473745','asd@mail.ru']\n",
        "\n",
        "for i in range(len(telephone_numbers)):\n",
        "  print(telephone_numbers[i], re.match(r'\\S+[@][a-zA-Z]\\S+[.]\\S+', telephone_numbers[i]))"
      ],
      "execution_count": null,
      "outputs": [
        {
          "output_type": "stream",
          "text": [
            "8(903)6174741 None\n",
            "+7(903)6174731 None\n",
            "cnn@gmail.com <_sre.SRE_Match object; span=(0, 13), match='cnn@gmail.com'>\n",
            "89036174739 None\n",
            "+79036174740 None\n",
            "89036174738 None\n",
            "+7903617473745 None\n",
            "asd@mail.ru <_sre.SRE_Match object; span=(0, 11), match='asd@mail.ru'>\n"
          ],
          "name": "stdout"
        }
      ]
    },
    {
      "cell_type": "markdown",
      "metadata": {
        "id": "oqaFFG-FvDhd"
      },
      "source": [
        "**EXAMPLE**"
      ]
    },
    {
      "cell_type": "code",
      "metadata": {
        "id": "1iNPIUTuvCic",
        "outputId": "651ca12d-5339-4d8c-fc15-cdc2f2d358a4",
        "colab": {
          "base_uri": "https://localhost:8080/",
          "height": 34
        }
      },
      "source": [
        "# удалить все знаки препинания\n",
        "sentence = \"A, very very; irregular_sentence\"\n",
        "sentence = re.sub(r'[^a-zA-Z]',' ', sentence)\n",
        "sentence = re.sub('  ',' ', sentence)\n",
        "print(sentence)"
      ],
      "execution_count": null,
      "outputs": [
        {
          "output_type": "stream",
          "text": [
            "A very very irregular sentence\n"
          ],
          "name": "stdout"
        }
      ]
    },
    {
      "cell_type": "code",
      "metadata": {
        "id": "Za75FwlruvlX",
        "colab": {
          "base_uri": "https://localhost:8080/",
          "height": 34
        },
        "outputId": "32cca944-5154-47cb-f277-950dc32d299b"
      },
      "source": [
        "# удалить все знаки препинания\n",
        "sentence = \"A, very very; irregular_sentence\"\n",
        "sentence = re.sub(r'[^a-zA-Z]',' ', sentence)\n",
        "sentence = re.sub(r'\\s+',' ', sentence)\n",
        "print(sentence)"
      ],
      "execution_count": null,
      "outputs": [
        {
          "output_type": "stream",
          "text": [
            "A very very irregular sentence\n"
          ],
          "name": "stdout"
        }
      ]
    }
  ]
}