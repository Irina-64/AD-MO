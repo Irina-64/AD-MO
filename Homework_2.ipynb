{
  "cells": [
    {
      "cell_type": "markdown",
      "metadata": {
        "id": "view-in-github",
        "colab_type": "text"
      },
      "source": [
        "<a href=\"https://colab.research.google.com/github/Irina-64/AD-MO/blob/main/Homework_2.ipynb\" target=\"_parent\"><img src=\"https://colab.research.google.com/assets/colab-badge.svg\" alt=\"Open In Colab\"/></a>"
      ]
    },
    {
      "cell_type": "markdown",
      "metadata": {
        "id": "RV0Fs26DvDxS"
      },
      "source": [
        "### Homework 2\n",
        "\n",
        "\n",
        "#### Задание 1: \n",
        "\n",
        "Датасет: https://www.kaggle.com/uciml/red-wine-quality-cortez-et-al-2009\n",
        "\n",
        "1. решить задачу классификации на предложенном датасете с использованием Boosting моделей;(20%)\n",
        "2. нормализовать, стандартизовать датасет и применить техники работы с не сбалансированным датасетом;(20%)\n",
        "3. решить задачу классификации на предложенном датасете с использованием Boosting моделей;(20%)\n",
        "4. с помощью алгоритма PCA найти размерность пространства признаков до которой можно понизить исходное пространство без потери точности.(20%)\n",
        "\n",
        "\n",
        "#### Задание 2: \n",
        "\n",
        "Датасет: https://www1.nyc.gov/html/gbee/html/plan/ll84_scores.shtml\n",
        "\n",
        "С помощью алгоритма PCA (t-SNE) найти размерность пространства признаков до которой можно понизить исходное пространство без потери точности.(20%)"
      ]
    },
    {
      "cell_type": "code",
      "source": [],
      "metadata": {
        "id": "lg69G-a8vi2G"
      },
      "execution_count": null,
      "outputs": []
    }
  ],
  "metadata": {
    "kernelspec": {
      "display_name": "Python 3",
      "language": "python",
      "name": "python3"
    },
    "language_info": {
      "codemirror_mode": {
        "name": "ipython",
        "version": 3
      },
      "file_extension": ".py",
      "mimetype": "text/x-python",
      "name": "python",
      "nbconvert_exporter": "python",
      "pygments_lexer": "ipython3",
      "version": "3.7.3"
    },
    "colab": {
      "provenance": [],
      "include_colab_link": true
    }
  },
  "nbformat": 4,
  "nbformat_minor": 0
}