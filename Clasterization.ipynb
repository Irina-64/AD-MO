{
  "cells": [
    {
      "cell_type": "markdown",
      "metadata": {
        "id": "view-in-github",
        "colab_type": "text"
      },
      "source": [
        "<a href=\"https://colab.research.google.com/github/Irina-64/AD-MO/blob/main/Clasterization.ipynb\" target=\"_parent\"><img src=\"https://colab.research.google.com/assets/colab-badge.svg\" alt=\"Open In Colab\"/></a>"
      ]
    },
    {
      "cell_type": "code",
      "execution_count": null,
      "metadata": {
        "id": "ephjrEa5oMO1"
      },
      "outputs": [],
      "source": [
        "from sklearn import metrics\n",
        "from sklearn import datasets\n",
        "import pandas as pd\n",
        "\n",
        "from sklearn.cluster import KMeans, AgglomerativeClustering, AffinityPropagation, SpectralClustering"
      ]
    },
    {
      "cell_type": "code",
      "execution_count": null,
      "metadata": {
        "id": "kmNY1AK1oMPP"
      },
      "outputs": [],
      "source": [
        "import scipy"
      ]
    },
    {
      "cell_type": "code",
      "execution_count": null,
      "metadata": {
        "id": "EU3iy8uvoMPR"
      },
      "outputs": [],
      "source": [
        "data = datasets.load_digits()\n",
        "X, y = data.data, data.target"
      ]
    },
    {
      "cell_type": "code",
      "execution_count": null,
      "metadata": {
        "id": "cFUvt577oMPS"
      },
      "outputs": [],
      "source": [
        "algorithms = []\n",
        "\n",
        "algorithms.append(KMeans(n_clusters=10, random_state=1))\n",
        "algorithms.append(AffinityPropagation())\n",
        "algorithms.append(SpectralClustering(n_clusters=10, random_state=1,\n",
        "                                     affinity='nearest_neighbors'))\n",
        "algorithms.append(AgglomerativeClustering(n_clusters=10))"
      ]
    },
    {
      "cell_type": "code",
      "execution_count": null,
      "metadata": {
        "id": "PWCDSzqPoMPT",
        "outputId": "ff1260b9-9aef-48cc-9481-a0bad7e54768"
      },
      "outputs": [
        {
          "name": "stderr",
          "output_type": "stream",
          "text": [
            "/Library/Frameworks/Python.framework/Versions/3.7/lib/python3.7/site-packages/sklearn/metrics/cluster/supervised.py:746: FutureWarning: The behavior of AMI will change in version 0.22. To match the behavior of 'v_measure_score', AMI will use average_method='arithmetic' by default.\n",
            "  FutureWarning)\n",
            "/Library/Frameworks/Python.framework/Versions/3.7/lib/python3.7/site-packages/sklearn/metrics/cluster/supervised.py:746: FutureWarning: The behavior of AMI will change in version 0.22. To match the behavior of 'v_measure_score', AMI will use average_method='arithmetic' by default.\n",
            "  FutureWarning)\n",
            "/Library/Frameworks/Python.framework/Versions/3.7/lib/python3.7/site-packages/sklearn/metrics/cluster/supervised.py:746: FutureWarning: The behavior of AMI will change in version 0.22. To match the behavior of 'v_measure_score', AMI will use average_method='arithmetic' by default.\n",
            "  FutureWarning)\n",
            "/Library/Frameworks/Python.framework/Versions/3.7/lib/python3.7/site-packages/sklearn/metrics/cluster/supervised.py:746: FutureWarning: The behavior of AMI will change in version 0.22. To match the behavior of 'v_measure_score', AMI will use average_method='arithmetic' by default.\n",
            "  FutureWarning)\n"
          ]
        },
        {
          "data": {
            "text/html": [
              "<div>\n",
              "<style scoped>\n",
              "    .dataframe tbody tr th:only-of-type {\n",
              "        vertical-align: middle;\n",
              "    }\n",
              "\n",
              "    .dataframe tbody tr th {\n",
              "        vertical-align: top;\n",
              "    }\n",
              "\n",
              "    .dataframe thead th {\n",
              "        text-align: right;\n",
              "    }\n",
              "</style>\n",
              "<table border=\"1\" class=\"dataframe\">\n",
              "  <thead>\n",
              "    <tr style=\"text-align: right;\">\n",
              "      <th></th>\n",
              "      <th>ARI</th>\n",
              "      <th>AMI</th>\n",
              "      <th>Homogenity</th>\n",
              "      <th>Completeness</th>\n",
              "      <th>V-measure</th>\n",
              "      <th>Silhouette</th>\n",
              "    </tr>\n",
              "  </thead>\n",
              "  <tbody>\n",
              "    <tr>\n",
              "      <th>K-means</th>\n",
              "      <td>0.662295</td>\n",
              "      <td>0.732799</td>\n",
              "      <td>0.735448</td>\n",
              "      <td>0.742972</td>\n",
              "      <td>0.739191</td>\n",
              "      <td>0.182097</td>\n",
              "    </tr>\n",
              "    <tr>\n",
              "      <th>Affinity</th>\n",
              "      <td>0.175174</td>\n",
              "      <td>0.451249</td>\n",
              "      <td>0.958907</td>\n",
              "      <td>0.486901</td>\n",
              "      <td>0.645857</td>\n",
              "      <td>0.115197</td>\n",
              "    </tr>\n",
              "    <tr>\n",
              "      <th>Spectral</th>\n",
              "      <td>0.756461</td>\n",
              "      <td>0.829986</td>\n",
              "      <td>0.831691</td>\n",
              "      <td>0.876614</td>\n",
              "      <td>0.853562</td>\n",
              "      <td>0.182729</td>\n",
              "    </tr>\n",
              "    <tr>\n",
              "      <th>Agglomerative</th>\n",
              "      <td>0.794003</td>\n",
              "      <td>0.856085</td>\n",
              "      <td>0.857513</td>\n",
              "      <td>0.879096</td>\n",
              "      <td>0.868170</td>\n",
              "      <td>0.178497</td>\n",
              "    </tr>\n",
              "  </tbody>\n",
              "</table>\n",
              "</div>"
            ],
            "text/plain": [
              "                    ARI       AMI  Homogenity  Completeness  V-measure  \\\n",
              "K-means        0.662295  0.732799    0.735448      0.742972   0.739191   \n",
              "Affinity       0.175174  0.451249    0.958907      0.486901   0.645857   \n",
              "Spectral       0.756461  0.829986    0.831691      0.876614   0.853562   \n",
              "Agglomerative  0.794003  0.856085    0.857513      0.879096   0.868170   \n",
              "\n",
              "               Silhouette  \n",
              "K-means          0.182097  \n",
              "Affinity         0.115197  \n",
              "Spectral         0.182729  \n",
              "Agglomerative    0.178497  "
            ]
          },
          "execution_count": 4,
          "metadata": {},
          "output_type": "execute_result"
        }
      ],
      "source": [
        "data = []\n",
        "for algo in algorithms:\n",
        "    algo.fit(X)\n",
        "    data.append(({\n",
        "        'ARI': metrics.adjusted_rand_score(y, algo.labels_),\n",
        "        'AMI': metrics.adjusted_mutual_info_score(y, algo.labels_),\n",
        "        'Homogenity': metrics.homogeneity_score(y, algo.labels_),\n",
        "        'Completeness': metrics.completeness_score(y, algo.labels_),\n",
        "        'V-measure': metrics.v_measure_score(y, algo.labels_),\n",
        "        \n",
        "        'Silhouette': metrics.silhouette_score(X, algo.labels_)}))\n",
        "\n",
        "results = pd.DataFrame(data=data, columns=['ARI', 'AMI', 'Homogenity',\n",
        "                                           'Completeness', 'V-measure', \n",
        "                                           'Silhouette'],\n",
        "                       index=['K-means', 'Affinity', \n",
        "                              'Spectral', 'Agglomerative'])\n",
        "\n",
        "results"
      ]
    },
    {
      "cell_type": "code",
      "execution_count": null,
      "metadata": {
        "id": "_CMYszfLoMPW"
      },
      "outputs": [],
      "source": []
    }
  ],
  "metadata": {
    "kernelspec": {
      "display_name": "Python 3",
      "language": "python",
      "name": "python3"
    },
    "language_info": {
      "codemirror_mode": {
        "name": "ipython",
        "version": 3
      },
      "file_extension": ".py",
      "mimetype": "text/x-python",
      "name": "python",
      "nbconvert_exporter": "python",
      "pygments_lexer": "ipython3",
      "version": "3.7.3"
    },
    "colab": {
      "provenance": [],
      "include_colab_link": true
    }
  },
  "nbformat": 4,
  "nbformat_minor": 0
}