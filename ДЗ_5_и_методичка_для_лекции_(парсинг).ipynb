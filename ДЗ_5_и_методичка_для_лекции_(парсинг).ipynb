{
  "nbformat": 4,
  "nbformat_minor": 0,
  "metadata": {
    "colab": {
      "provenance": [],
      "authorship_tag": "ABX9TyMeHgdNshkxXAJ+Deil7Rm/",
      "include_colab_link": true
    },
    "kernelspec": {
      "name": "python3",
      "display_name": "Python 3"
    },
    "language_info": {
      "name": "python"
    }
  },
  "cells": [
    {
      "cell_type": "markdown",
      "metadata": {
        "id": "view-in-github",
        "colab_type": "text"
      },
      "source": [
        "<a href=\"https://colab.research.google.com/github/Irina-64/AD-MO/blob/main/%D0%94%D0%97_5_%D0%B8_%D0%BC%D0%B5%D1%82%D0%BE%D0%B4%D0%B8%D1%87%D0%BA%D0%B0_%D0%B4%D0%BB%D1%8F_%D0%BB%D0%B5%D0%BA%D1%86%D0%B8%D0%B8_(%D0%BF%D0%B0%D1%80%D1%81%D0%B8%D0%BD%D0%B3).ipynb\" target=\"_parent\"><img src=\"https://colab.research.google.com/assets/colab-badge.svg\" alt=\"Open In Colab\"/></a>"
      ]
    },
    {
      "cell_type": "markdown",
      "source": [
        "\n",
        "# Пример работы с beautifulsoup\n",
        "> Блок с отступами\n",
        "\n",
        "1. регулярные выражения\n",
        "2. сторонние библиотеки beautifulsoup, lxml\n",
        "3. scrapy"
      ],
      "metadata": {
        "id": "L55xnQfBlWcP"
      }
    },
    {
      "cell_type": "code",
      "source": [
        "import requests\n",
        "from bs4 import BeautifulSoup\n",
        "\n",
        "url = 'http://dedmorozural.ru/novosti'\n",
        "\n",
        "response = requests.get(url)\n",
        "\n",
        "print(response.status_code)\n",
        "\n",
        "print(response.text)\n"
      ],
      "metadata": {
        "id": "3vIcBgLql1kZ"
      },
      "execution_count": null,
      "outputs": []
    },
    {
      "cell_type": "markdown",
      "source": [
        "### Курсив Создаем \"суп\" для разбора html"
      ],
      "metadata": {
        "id": "BFvPHHwsly_T"
      }
    },
    {
      "cell_type": "code",
      "source": [
        "soup = BeautifulSoup(response.text, 'html.parser')"
      ],
      "metadata": {
        "id": "n-53uQZmlyl4"
      },
      "execution_count": null,
      "outputs": []
    },
    {
      "cell_type": "markdown",
      "source": [
        "### Получаем тег title"
      ],
      "metadata": {
        "id": "r9CxIXIcmEO-"
      }
    },
    {
      "cell_type": "code",
      "source": [
        "print(soup.title)\n",
        "\n",
        "bs4.element.Tag\n",
        "print(type(soup.title))\n",
        "\n"
      ],
      "metadata": {
        "id": "HeteHB7mmJYU"
      },
      "execution_count": null,
      "outputs": []
    },
    {
      "cell_type": "markdown",
      "source": [
        "### Через точку мы находим первый тег"
      ],
      "metadata": {
        "id": "AVuScDLzmUCD"
      }
    },
    {
      "cell_type": "code",
      "source": [
        "print(soup.a)"
      ],
      "metadata": {
        "id": "Zqo0sUkemTDL"
      },
      "execution_count": null,
      "outputs": []
    },
    {
      "cell_type": "markdown",
      "source": [
        "### Чтобы получить текст внутри тега"
      ],
      "metadata": {
        "id": "_mXVbeJJEhHe"
      }
    },
    {
      "cell_type": "code",
      "source": [
        "print(soup.a.string)"
      ],
      "metadata": {
        "id": "ZzEm7CIMEm1u"
      },
      "execution_count": null,
      "outputs": []
    },
    {
      "cell_type": "markdown",
      "source": [
        "### строка str"
      ],
      "metadata": {
        "id": "9yFWG8M9EwIk"
      }
    },
    {
      "cell_type": "code",
      "source": [
        "print(soup.a.text) \n",
        "bs4.element.NavigableString \n",
        "print(type(soup.a.string)) \n",
        "print(type(soup.a.text))"
      ],
      "metadata": {
        "id": "HbgK9JJnE1dK"
      },
      "execution_count": null,
      "outputs": []
    },
    {
      "cell_type": "markdown",
      "source": [
        "### атрибут"
      ],
      "metadata": {
        "id": "ubliY8MqFHe0"
      }
    },
    {
      "cell_type": "code",
      "source": [
        "print(soup.a.get('href'))"
      ],
      "metadata": {
        "id": "7gPOxXhSFMh2"
      },
      "execution_count": null,
      "outputs": []
    },
    {
      "cell_type": "markdown",
      "source": [
        "### Находим все картинки"
      ],
      "metadata": {
        "id": "kffo0DMzFQwO"
      }
    },
    {
      "cell_type": "code",
      "source": [
        "images_tags = soup.find_all('img')"
      ],
      "metadata": {
        "id": "C_9Q9u8qFb92"
      },
      "execution_count": null,
      "outputs": []
    },
    {
      "cell_type": "markdown",
      "source": [
        "### for image_tag in images_tags:"
      ],
      "metadata": {
        "id": "HJInx-u5FgKb"
      }
    },
    {
      "cell_type": "code",
      "source": [
        "print(image_tag)"
      ],
      "metadata": {
        "id": "KbdinXMaFj5-"
      },
      "execution_count": null,
      "outputs": []
    },
    {
      "cell_type": "markdown",
      "source": [
        "\n",
        "### Поиск по классу - Обычно самое полезное!!!"
      ],
      "metadata": {
        "id": "c_GBMYgOnoHt"
      }
    },
    {
      "cell_type": "code",
      "source": [
        "big_body_div = soup.find('div', class_='modulebody1')"
      ],
      "metadata": {
        "id": "84aiIPWSmhdy"
      },
      "execution_count": null,
      "outputs": []
    },
    {
      "cell_type": "markdown",
      "source": [
        "print(big_body_div)\n",
        "print(type(big_body_div))\n",
        "print(big_body_div.get('class'))\n",
        "\n",
        "#### 1. Лучший вариант искать по классу Можно искать в уже найденном\n",
        "modulebody3 = big_body_div.find('div', class_='modulebody3')\n",
        "print(modulebody3)\n",
        "\n",
        "#### 2. Если не получается найти по классу или по тегу, то придется по порядку, применяя модуль \n",
        ".contents\n",
        "\n",
        "print(big_body_div.contents)\n",
        "print(len(big_body_div.contents))\n",
        "#### находим ссылку a по порядку\n",
        "print(big_body_div.contents[1].contents[1].contents)"
      ],
      "metadata": {
        "id": "qc5zw5q-oWt0"
      }
    },
    {
      "cell_type": "markdown",
      "source": [
        "### Получение своих детей"
      ],
      "metadata": {
        "id": "d2-CsaK1FtMj"
      }
    },
    {
      "cell_type": "code",
      "source": [
        "for child in big_body_div.children:\n",
        "    print(1)\n",
        "    print(child)"
      ],
      "metadata": {
        "id": "cO7c4I-VF7u0"
      },
      "execution_count": null,
      "outputs": []
    },
    {
      "cell_type": "markdown",
      "source": [
        "### Рекурсивное получение детей"
      ],
      "metadata": {
        "id": "Yp_q8jWJGCgk"
      }
    },
    {
      "cell_type": "code",
      "source": [
        "for child in big_body_div.descendants:\n",
        "    print(0)\n",
        "    # print(child)\n",
        "\n",
        "print(len(list(big_body_div.children)))\n",
        "print(len(list(big_body_div.descendants)))"
      ],
      "metadata": {
        "id": "BydH664ZGXds"
      },
      "execution_count": null,
      "outputs": []
    },
    {
      "cell_type": "markdown",
      "source": [
        "### Дополнительные материалы"
      ],
      "metadata": {
        "id": "Ylunt1qeDZTE"
      }
    },
    {
      "cell_type": "markdown",
      "source": [
        "**beautifulsoup** установка и быстрый старт https://pypi.org/project/beautifulsoup4/\n",
        "\n",
        "**beautifulsoup** официальная документация https://www.crummy.com/software/BeautifulSoup/bs4/doc/\n",
        "\n",
        "**requests авторизация** https://requests.readthedocs.io/en/master/user/authentication/\n",
        "\n",
        "**заголовки которые отправляет браузер хром** https://o7planning.org/ru/11631/how-to-view-http-headers-in-google-chrome\n",
        "\n",
        "**scrapy** фреймворк для парсинга https://scrapy.org/"
      ],
      "metadata": {
        "id": "UZIAVpSTDXP7"
      }
    },
    {
      "cell_type": "markdown",
      "source": [
        "Домашнее задание:\n",
        "\n",
        "Название\n",
        "\n",
        "Создание html парсера\n",
        "\n",
        "Цель\n",
        "\n",
        "В этой самостоятельной работе тренируем умения:\n",
        "\n",
        "Использовать requests + beautifulsoup\n",
        "\n",
        "Смысл\n",
        "\n",
        "Понимать как работает html/css для использования в шаблонах для Flask, Django. Отработка навыков работы с html/css. Написание html парсеров\n",
        "\n",
        "Последовательность действий\n",
        "\n",
        "0. Создать новый проект (так же может быть кто то захочет добавить функционал в проект с api)\n",
        "\n",
        "1. Задание максимально творческое поэтому можно выбрать любую тему и любой сайт\n",
        "\n",
        "2. Придумать какие данные вы хотите получить (например новости, новые машины, товары, скидки, ...) Желательно не слишком сложные для начала 2-5 показателей\n",
        "\n",
        "Примеры:\n",
        "\n",
        "Новости: тема, дата, текст\n",
        "\n",
        "Новые машины: марка, класс, стоимость, ...\n",
        "\n",
        "Товары: название, цена, описание, ...\n",
        "\n",
        "Скидки: размер, название, магазин, ...\n",
        "\n",
        "3. Выбрать сайт где есть эти данные\n",
        "\n",
        "4. Написать парсер для получения этих данных\n",
        "\n",
        "5. Результат работы парсера можно сохранить в файл (несколько файлов) либо выводить в терминал\n",
        "\n",
        "6. Для тех кто ничего не выберет предлагаю следующие варианты:\n",
        "\n",
        "- сайт https://stackoverflow.com/ - поиск небезопасного кода аналогично заданию с api\n",
        "\n",
        "- сайт https://hh.ru/ поиск вакансий аналогично заданию с api (в api ограничение на 2000 вакансий, тут можно получить все)\n",
        "\n",
        "- сайт https://pythondigest.ru/ - новости о python на определенную тему\n",
        "\n",
        "\n",
        "7. В readme на гитхабе добавить краткое описание системы, какими возможностями она обладает\n",
        "\n",
        "### Критерии оценки\n",
        "\n",
        "Задание считается выполненным, когда:\n",
        "\n",
        "Парсер запускается и работает без ошибок, может получать хотя бы 2 характеристики объекта (Например новость и дата выхода, ...)    80% \n",
        "\n",
        "\n",
        "Дополнительно:\n",
        "\n",
        "Есть readme с описанием системы на гитхаб:  20%\n",
        "\n"
      ],
      "metadata": {
        "id": "3OTHvdjFHWfC"
      }
    },
    {
      "cell_type": "code",
      "source": [],
      "metadata": {
        "id": "NLYUfDPHNsXX"
      },
      "execution_count": null,
      "outputs": []
    }
  ]
}